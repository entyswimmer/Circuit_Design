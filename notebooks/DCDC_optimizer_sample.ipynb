{
 "cells": [
  {
   "cell_type": "markdown",
   "id": "8a9da963-b7d4-4ea3-bd72-6274f67dbec8",
   "metadata": {},
   "source": [
    "# DC-DCコンバータでのパラメータ最適化\n",
    "\n",
    "### 最適化の流れ\n",
    "\n",
    "1. パラメータ設定\n",
    "L, C, f_sw, Rloadの範囲を設定\n",
    "\n",
    "2. データ生成\n",
    "SPICEでパラメータスイープ (PySpice, ngspice)\n",
    "\n",
    "3. AI学習\n",
    "特性モデルを学習 scikit-learn, PyTorch\n",
    "\n",
    "4. 最適化\n",
    "効率最大・リップル最小化 (Optuna)\n",
    "\n",
    "\n",
    "6. 検証・可視化\n",
    "結果をSPICEで検証(matplotlib)\n"
   ]
  },
  {
   "cell_type": "code",
   "execution_count": 1,
   "id": "bd107ad2-a3bd-49ff-8ca0-cb9c2ef25db4",
   "metadata": {},
   "outputs": [
    {
     "name": "stderr",
     "output_type": "stream",
     "text": [
      "/Users/enty/.local/share/virtualenvs/Circuit_Design-i0K2t5yT/lib/python3.11/site-packages/tqdm/auto.py:21: TqdmWarning: IProgress not found. Please update jupyter and ipywidgets. See https://ipywidgets.readthedocs.io/en/stable/user_install.html\n",
      "  from .autonotebook import tqdm as notebook_tqdm\n"
     ]
    }
   ],
   "source": [
    "import numpy as np\n",
    "import subprocess\n",
    "import pandas as pd\n",
    "import pandas as pd\n",
    "from sklearn.model_selection import train_test_split\n",
    "from sklearn.neural_network import MLPRegressor\n",
    "from sklearn.preprocessing import StandardScaler\n",
    "import matplotlib.pyplot as plt\n",
    "import optuna\n",
    "import numpy as np\n",
    "import matplotlib.pyplot as plt"
   ]
  },
  {
   "cell_type": "code",
   "execution_count": null,
   "id": "9029adf8-3566-435a-8821-9ee9cd8a6ba7",
   "metadata": {},
   "outputs": [],
   "source": [
    "import numpy as np\n",
    "import subprocess\n",
    "import pandas as pd\n",
    "\n",
    "L_values = np.linspace(1e-6, 100e-6, 10)\n",
    "C_values = np.linspace(1e-6, 100e-6, 10)\n",
    "\n",
    "results = []\n",
    "\n",
    "for L in L_values:\n",
    "    for C in C_values:\n",
    "        # SPICEファイルの書き換え\n",
    "        with open(\"template.cir\", \"r\") as f:\n",
    "            netlist = f.read().replace(\"LVAL\", str(L)).replace(\"CVAL\", str(C))\n",
    "        with open(\"run.cir\", \"w\") as f:\n",
    "            f.write(netlist)\n",
    "\n",
    "        # SPICEを実行\n",
    "        subprocess.run([\"ngspice\", \"-b\", \"run.cir\", \"-o\", \"result.log\"])\n",
    "        \n",
    "        # ログから効率を抽出（仮）\n",
    "        efficiency = parse_efficiency(\"result.log\")\n",
    "        results.append([L, C, efficiency])\n",
    "\n",
    "# データ保存\n",
    "pd.DataFrame(results, columns=[\"L\", \"C\", \"efficiency\"]).to_csv(\"data.csv\", index=False)"
   ]
  },
  {
   "cell_type": "code",
   "execution_count": null,
   "id": "ce6847e2-b816-4b9f-8b82-b9b615caeea8",
   "metadata": {},
   "outputs": [],
   "source": [
    "import pandas as pd\n",
    "from sklearn.model_selection import train_test_split\n",
    "from sklearn.neural_network import MLPRegressor\n",
    "from sklearn.preprocessing import StandardScaler\n",
    "import matplotlib.pyplot as plt\n",
    "\n",
    "data = pd.read_csv(\"data.csv\")\n",
    "X = data[[\"L\", \"C\"]]\n",
    "y = data[\"efficiency\"]\n",
    "\n",
    "scaler = StandardScaler()\n",
    "X_scaled = scaler.fit_transform(X)\n",
    "\n",
    "model = MLPRegressor(hidden_layer_sizes=(64, 32), max_iter=500)\n",
    "model.fit(X_scaled, y)\n",
    "\n",
    "# 精度確認\n",
    "pred = model.predict(X_scaled)\n",
    "plt.scatter(y, pred)\n",
    "plt.xlabel(\"True Efficiency\")\n",
    "plt.ylabel(\"Predicted Efficiency\")\n",
    "plt.show()"
   ]
  },
  {
   "cell_type": "code",
   "execution_count": null,
   "id": "18ce3e74-9dfa-4092-b4e1-c00e1cd6eeb3",
   "metadata": {},
   "outputs": [],
   "source": [
    "import optuna\n",
    "import numpy as np\n",
    "\n",
    "def objective(trial):\n",
    "    L = trial.suggest_loguniform('L', 1e-6, 100e-6)\n",
    "    C = trial.suggest_loguniform('C', 1e-6, 100e-6)\n",
    "    \n",
    "    X_test = scaler.transform([[L, C]])\n",
    "    eff_pred = model.predict(X_test)[0]\n",
    "    return -eff_pred  # 最大化したいので符号反転\n",
    "\n",
    "study = optuna.create_study(direction='minimize')\n",
    "study.optimize(objective, n_trials=100)\n",
    "\n",
    "print(\"最適値:\", study.best_params)"
   ]
  },
  {
   "cell_type": "code",
   "execution_count": null,
   "id": "d7be59c6-a321-4127-82b4-a2c15d57294e",
   "metadata": {},
   "outputs": [],
   "source": [
    "import matplotlib.pyplot as plt\n",
    "import numpy as np\n",
    "\n",
    "L_range = np.linspace(1e-6, 100e-6, 50)\n",
    "C_range = np.linspace(1e-6, 100e-6, 50)\n",
    "Z = np.zeros((50, 50))\n",
    "\n",
    "for i, L in enumerate(L_range):\n",
    "    for j, C in enumerate(C_range):\n",
    "        X = scaler.transform([[L, C]])\n",
    "        Z[i, j] = model.predict(X)\n",
    "\n",
    "plt.imshow(Z, origin='lower', extent=[1e-6, 100e-6, 1e-6, 100e-6], aspect='auto')\n",
    "plt.xlabel(\"L [H]\")\n",
    "plt.ylabel(\"C [F]\")\n",
    "plt.title(\"Predicted Efficiency Map\")\n",
    "plt.colorbar(label=\"Efficiency\")\n",
    "plt.show()"
   ]
  }
 ],
 "metadata": {
  "kernelspec": {
   "display_name": "Python (pipenv)",
   "language": "python",
   "name": "pipenv-env"
  },
  "language_info": {
   "codemirror_mode": {
    "name": "ipython",
    "version": 3
   },
   "file_extension": ".py",
   "mimetype": "text/x-python",
   "name": "python",
   "nbconvert_exporter": "python",
   "pygments_lexer": "ipython3",
   "version": "3.11.11"
  }
 },
 "nbformat": 4,
 "nbformat_minor": 5
}
